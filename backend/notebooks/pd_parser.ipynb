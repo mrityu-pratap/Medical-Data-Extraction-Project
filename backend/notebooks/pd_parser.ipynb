{
 "cells": [
  {
   "cell_type": "code",
   "execution_count": 1,
   "id": "1bcab04f-e5a0-41c2-8298-bafc5db07cbd",
   "metadata": {},
   "outputs": [],
   "source": [
    "from pdf2image import convert_from_path"
   ]
  },
  {
   "cell_type": "code",
   "execution_count": 2,
   "id": "26d9413e-bccb-4795-b211-62e78c3796c4",
   "metadata": {},
   "outputs": [],
   "source": [
    "pages = convert_from_path(r'docs\\patient_details\\pd_1.pdf', poppler_path=r'E:\\Sunny\\CodeBasics\\Python\\softwares\\poppler-24.02.0\\Library\\bin')"
   ]
  },
  {
   "cell_type": "code",
   "execution_count": 3,
   "id": "2e806586-a8f6-49d7-861c-d9024dd3c991",
   "metadata": {},
   "outputs": [
    {
     "data": {
      "text/plain": [
       "[<PIL.PpmImagePlugin.PpmImageFile image mode=RGB size=1867x2000 at 0x28A930F8640>,\n",
       " <PIL.PpmImagePlugin.PpmImageFile image mode=RGB size=2000x1398 at 0x28A931C90D0>]"
      ]
     },
     "execution_count": 3,
     "metadata": {},
     "output_type": "execute_result"
    }
   ],
   "source": [
    "pages"
   ]
  },
  {
   "cell_type": "code",
   "execution_count": 4,
   "id": "cb559a6d-b8e7-4df9-88f3-072400b04e43",
   "metadata": {},
   "outputs": [
    {
     "data": {
      "text/plain": [
       "2"
      ]
     },
     "execution_count": 4,
     "metadata": {},
     "output_type": "execute_result"
    }
   ],
   "source": [
    "len(pages)"
   ]
  },
  {
   "cell_type": "code",
   "execution_count": 5,
   "id": "58801699-a44f-42a8-a870-9d3d5a1b79be",
   "metadata": {},
   "outputs": [],
   "source": [
    "pages[0].show()"
   ]
  },
  {
   "cell_type": "code",
   "execution_count": 6,
   "id": "53a30715-5b26-4ae2-936f-b3dd7dc22300",
   "metadata": {},
   "outputs": [],
   "source": [
    "import pytesseract"
   ]
  },
  {
   "cell_type": "code",
   "execution_count": 7,
   "id": "d17e6a42-cae9-40b7-b6c2-ed6734ddc89b",
   "metadata": {},
   "outputs": [
    {
     "name": "stdout",
     "output_type": "stream",
     "text": [
      "47/12/2020\n",
      "\n",
      "Patient Medical Record\n",
      "\n",
      "Patient Information Birth Date\n",
      "Kathy Crawford May 6 1972\n",
      "(737) 988-0851 Weight\n",
      "9264 Ash Dr 95\n",
      "New York City, 10005 .\n",
      "United States Height:\n",
      "190\n",
      "In Case of Emergency\n",
      "m _ a _\n",
      "Simeone Crawford 9266 Ash Dr\n",
      "New York City, New York, 10005\n",
      "Home phone United States\n",
      "(990) 375-4621\n",
      "Work phone\n",
      "Genera! Medical History\n",
      ". : a ee\n",
      "\n",
      "Chicken Pox (Varicella):\n",
      "\n",
      "IMMUNE\n",
      "\n",
      "Have you had the Hepatitis B vaccination?\n",
      "\n",
      "No\n",
      "\n",
      "List any Medical Problems (asthma, seizures, headaches):\n",
      "\n",
      "Migraine\n"
     ]
    }
   ],
   "source": [
    "pytesseract.pytesseract.tesseract_cmd = 'C:\\\\Program Files\\\\Tesseract-OCR\\\\tesseract.exe'\n",
    "text = pytesseract.image_to_string(pages[0], lang='eng')\n",
    "print(text)"
   ]
  },
  {
   "cell_type": "code",
   "execution_count": 8,
   "id": "4694b9e9-afe3-4dc4-944a-dc504ad9056d",
   "metadata": {},
   "outputs": [],
   "source": [
    "import numpy as np\n",
    "import cv2\n",
    "from PIL import Image\n",
    "def preprocess_image(img):\n",
    "    gray = cv2.cvtColor(np.array(img), cv2.COLOR_BGR2GRAY)\n",
    "    resized = cv2.resize(gray, None, fx=1.5, fy=1.5, interpolation=cv2.INTER_LINEAR)\n",
    "    processed_image = cv2.adaptiveThreshold(\n",
    "    resized, 255, \n",
    "    cv2.ADAPTIVE_THRESH_GAUSSIAN_C, \n",
    "    cv2.THRESH_BINARY, \n",
    "    61,\n",
    "    11)\n",
    "    return processed_image"
   ]
  },
  {
   "cell_type": "code",
   "execution_count": 9,
   "id": "44d6701b-bb75-45e5-8c0f-93811d19ea1e",
   "metadata": {},
   "outputs": [],
   "source": [
    "img = preprocess_image(pages[0])\n",
    "Image.fromarray(img).show()"
   ]
  },
  {
   "cell_type": "code",
   "execution_count": 10,
   "id": "511c17f6-d6d6-420c-bd50-a54aba094e06",
   "metadata": {},
   "outputs": [
    {
     "name": "stdout",
     "output_type": "stream",
     "text": [
      "17/12/2020\n",
      "\n",
      "Patient Medical Record\n",
      "\n",
      "Patient Information Birth Date\n",
      "Kathy Crawford May 6 1972\n",
      "(737) 988-0851 Weight’\n",
      "9264 Ash Dr 95\n",
      "New York City, 10005 .\n",
      "United States Height:\n",
      "190\n",
      "In Casc of Emergency\n",
      "7 ee\n",
      "Simeone Crawford 9266 Ash Dr\n",
      "New York City, New York, 10005\n",
      "Home phone United States\n",
      "(990) 375-4621\n",
      "Work phone\n",
      "\n",
      "Genera! Medical History\n",
      "\n",
      "a\n",
      "\n",
      "a\n",
      "\n",
      "a ea A CE i a\n",
      "\n",
      "Chicken Pox (Varicella): Measies:\n",
      "\n",
      "IMMUNE IMMUNE\n",
      "\n",
      "Have you had the Hepatitis B vaccination?\n",
      "No\n",
      "\n",
      "List any Medical Problems (asthma, seizures, headaches}:\n",
      "\n",
      "Migraine\n",
      "\n",
      "be\n",
      "\n",
      "CO\n",
      "nat\n",
      "aa\n",
      "oo\n"
     ]
    }
   ],
   "source": [
    "pytesseract.pytesseract.tesseract_cmd = 'C:\\\\Program Files\\\\Tesseract-OCR\\\\tesseract.exe'\n",
    "text = pytesseract.image_to_string(img, lang='eng')\n",
    "print(text)"
   ]
  },
  {
   "cell_type": "code",
   "execution_count": 11,
   "id": "e1a9c5e6-e008-4b5a-9b91-3b5caa10b060",
   "metadata": {},
   "outputs": [],
   "source": [
    "import re"
   ]
  },
  {
   "cell_type": "code",
   "execution_count": 12,
   "id": "4fb8b5e2-ba79-44b8-a952-82601667c62d",
   "metadata": {},
   "outputs": [],
   "source": [
    "text = '''\n",
    "17/12/2020\n",
    "\n",
    "Patient Medical Record\n",
    "\n",
    "Patient Information Birth Date\n",
    "Kathy Crawford May 6 1972\n",
    "(737) 988-0851 Weight’\n",
    "9264 Ash Dr 95\n",
    "New York City, 10005 .\n",
    "United States Height:\n",
    "190\n",
    "In Casc of Emergency\n",
    "7 ee\n",
    "Simeone Crawford 9266 Ash Dr\n",
    "New York City, New York, 10005\n",
    "Home phone United States\n",
    "(990) 375-4621\n",
    "Work phone\n",
    "\n",
    "Genera! Medical History\n",
    "\n",
    "a\n",
    "\n",
    "a\n",
    "\n",
    "a ea A CE i a\n",
    "\n",
    "Chicken Pox (Varicella): Measies:\n",
    "\n",
    "IMMUNE IMMUNE\n",
    "\n",
    "Have you had the Hepatitis B vaccination?\n",
    "No\n",
    "\n",
    "List any Medical Problems (asthma, seizures, headaches):\n",
    "\n",
    "Migraine\n",
    "\n",
    "'''"
   ]
  },
  {
   "cell_type": "code",
   "execution_count": 24,
   "id": "3cc4cca9-8bc3-49b5-8cc3-278abec4e40e",
   "metadata": {},
   "outputs": [
    {
     "data": {
      "text/plain": [
       "'Kathy Crawford'"
      ]
     },
     "execution_count": 24,
     "metadata": {},
     "output_type": "execute_result"
    }
   ],
   "source": [
    "pattern = \"Patient Information(.*?)\\(\\d{3}\\)\"\n",
    "\n",
    "matches = re.findall(pattern, text, flags=re.DOTALL)\n",
    "matches[0].strip()\n",
    "\n",
    "match = matches[0].replace('Birth Date\\n', '').strip()\n",
    "pattern1 = '((Jan|Feb|March|April|May|June|July|Aug|Sep|Oct|Nov|Dec)[ \\d]+)'\n",
    "date_matches = re.findall(pattern1, match, flags=re.DOTALL)\n",
    "date = date_matches[0][0]\n",
    "match.replace(date,'').strip()\n"
   ]
  },
  {
   "cell_type": "code",
   "execution_count": 15,
   "id": "3bd37629-5d9f-4c1d-92db-f071eb77f352",
   "metadata": {},
   "outputs": [
    {
     "data": {
      "text/plain": [
       "'(737) 988-0851'"
      ]
     },
     "execution_count": 15,
     "metadata": {},
     "output_type": "execute_result"
    }
   ],
   "source": [
    "pattern = \"Patient Information(.*?)(\\(\\d{3}\\).\\d{3}\\-\\d{4})\"\n",
    "\n",
    "matches = re.findall(pattern, text, flags=re.DOTALL)\n",
    "matches[0][1]"
   ]
  },
  {
   "cell_type": "code",
   "execution_count": 16,
   "id": "9053a24b-e321-4210-a9f9-4a4f4ccca968",
   "metadata": {},
   "outputs": [
    {
     "name": "stdout",
     "output_type": "stream",
     "text": [
      "No\n"
     ]
    }
   ],
   "source": [
    "pattern = \"vaccination\\?.*(Yes|No)\"\n",
    "\n",
    "match = re.findall(pattern, text, flags=re.DOTALL)\n",
    "print(match[0].strip())"
   ]
  },
  {
   "cell_type": "code",
   "execution_count": 17,
   "id": "5b42876d-1083-4210-a5cc-ce564fce308a",
   "metadata": {},
   "outputs": [
    {
     "name": "stdout",
     "output_type": "stream",
     "text": [
      "Migraine\n"
     ]
    }
   ],
   "source": [
    "pattern = \"headaches\\)\\:(.*)\"\n",
    "\n",
    "match = re.findall(pattern, text, flags=re.DOTALL)\n",
    "print(match[0].strip())"
   ]
  }
 ],
 "metadata": {
  "kernelspec": {
   "display_name": "Python 3 (ipykernel)",
   "language": "python",
   "name": "python3"
  },
  "language_info": {
   "codemirror_mode": {
    "name": "ipython",
    "version": 3
   },
   "file_extension": ".py",
   "mimetype": "text/x-python",
   "name": "python",
   "nbconvert_exporter": "python",
   "pygments_lexer": "ipython3",
   "version": "3.8.10"
  }
 },
 "nbformat": 4,
 "nbformat_minor": 5
}
