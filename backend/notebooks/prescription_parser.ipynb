{
 "cells": [
  {
   "cell_type": "code",
   "execution_count": 2,
   "id": "652de0b3-afac-4a06-bc42-977ee81faa9d",
   "metadata": {},
   "outputs": [],
   "source": [
    "from pdf2image import convert_from_path"
   ]
  },
  {
   "cell_type": "code",
   "execution_count": 19,
   "id": "48d84b68-cb39-4641-bbbc-019e0e42826c",
   "metadata": {},
   "outputs": [],
   "source": [
    "pages = convert_from_path(r'docs\\prescription\\pre_2.pdf', poppler_path=r'E:\\Sunny\\CodeBasics\\Python\\softwares\\poppler-24.02.0\\Library\\bin')"
   ]
  },
  {
   "cell_type": "code",
   "execution_count": 20,
   "id": "5ea54bd3-3e88-4eb7-926b-d5c95dfbdf7d",
   "metadata": {},
   "outputs": [
    {
     "data": {
      "text/plain": [
       "[<PIL.PpmImagePlugin.PpmImageFile image mode=RGB size=1700x2200 at 0x1F5C83969A0>]"
      ]
     },
     "execution_count": 20,
     "metadata": {},
     "output_type": "execute_result"
    }
   ],
   "source": [
    "pages"
   ]
  },
  {
   "cell_type": "code",
   "execution_count": 21,
   "id": "5b464ff8-5656-4631-b0e4-078d2e9c5551",
   "metadata": {},
   "outputs": [
    {
     "data": {
      "text/plain": [
       "1"
      ]
     },
     "execution_count": 21,
     "metadata": {},
     "output_type": "execute_result"
    }
   ],
   "source": [
    "len(pages)"
   ]
  },
  {
   "cell_type": "code",
   "execution_count": 22,
   "id": "5b4a53b6-0074-43d6-817c-384270d640a2",
   "metadata": {},
   "outputs": [],
   "source": [
    "pages[0].show()"
   ]
  },
  {
   "cell_type": "code",
   "execution_count": 23,
   "id": "acc24283-b895-4010-a2ac-31acabcf67b6",
   "metadata": {},
   "outputs": [],
   "source": [
    "import pytesseract"
   ]
  },
  {
   "cell_type": "code",
   "execution_count": 25,
   "id": "2d8319c2-c51d-4d8c-8581-7e95328ddca7",
   "metadata": {},
   "outputs": [
    {
     "name": "stdout",
     "output_type": "stream",
     "text": [
      "Refill: 3 times\n"
     ]
    }
   ],
   "source": [
    "pytesseract.pytesseract.tesseract_cmd = 'C:\\\\Program Files\\\\Tesseract-OCR\\\\tesseract.exe'\n",
    "text = pytesseract.image_to_string(pages[0], lang='eng')\n",
    "print(text)"
   ]
  },
  {
   "cell_type": "code",
   "execution_count": 26,
   "id": "dc7ae32e-90c1-4dbb-8384-e50386923072",
   "metadata": {},
   "outputs": [],
   "source": [
    "import numpy as np\n",
    "import cv2\n",
    "from PIL import Image\n",
    "def preprocess_image(img):\n",
    "    gray = cv2.cvtColor(np.array(img), cv2.COLOR_BGR2GRAY)\n",
    "    resized = cv2.resize(gray, None, fx=1.5, fy=1.5, interpolation=cv2.INTER_LINEAR)\n",
    "    processed_image = cv2.adaptiveThreshold(\n",
    "    resized, 255, \n",
    "    cv2.ADAPTIVE_THRESH_GAUSSIAN_C, \n",
    "    cv2.THRESH_BINARY, \n",
    "    61,\n",
    "    11)\n",
    "    return processed_image"
   ]
  },
  {
   "cell_type": "code",
   "execution_count": 27,
   "id": "d872b270-bde6-41d7-85b0-e3ab25e3fc35",
   "metadata": {},
   "outputs": [],
   "source": [
    "img = preprocess_image(pages[0])\n",
    "Image.fromarray(img).show()"
   ]
  },
  {
   "cell_type": "code",
   "execution_count": 28,
   "id": "ba791319-4f3e-450e-9dc2-4a786cbf7d74",
   "metadata": {},
   "outputs": [
    {
     "name": "stdout",
     "output_type": "stream",
     "text": [
      "Dr John >mith, M.D\n",
      "\n",
      "2 Non-Important street,\n",
      "New York, Phone (900)-323- ~2222\n",
      "\n",
      "Name:  Virat Kohli Date: 2/05/2022\n",
      "\n",
      "Address: 2 cricket blvd, New Delhi\n",
      "\n",
      "| Omeprazole 40 mg\n",
      "\n",
      "Directions: Use two tablets daily for three months\n",
      "\n",
      "Refill: 3 times\n"
     ]
    }
   ],
   "source": [
    "pytesseract.pytesseract.tesseract_cmd = 'C:\\\\Program Files\\\\Tesseract-OCR\\\\tesseract.exe'\n",
    "text = pytesseract.image_to_string(img, lang='eng')\n",
    "print(text)"
   ]
  },
  {
   "cell_type": "code",
   "execution_count": 29,
   "id": "027683c3-a3bb-4540-9160-7aae21fef855",
   "metadata": {},
   "outputs": [],
   "source": [
    "import re"
   ]
  },
  {
   "cell_type": "code",
   "execution_count": 30,
   "id": "bac9d304-737c-4528-8d5a-ff686efeed3a",
   "metadata": {},
   "outputs": [],
   "source": [
    "text = '''\n",
    "Dr John Smith, M.D\n",
    "2 Non-Important street,\n",
    "New York, Phone (900)-323- ~2222\n",
    "\n",
    "Name:  Virat Kohli Date: 2/05/2022\n",
    "\n",
    "Address: 2 cricket blvd, New Delhi\n",
    "\n",
    "Omeprazole 40 mg\n",
    "\n",
    "Directions: Use two tablets daily for three months\n",
    "\n",
    "Refill: 3 times\n",
    "'''"
   ]
  },
  {
   "cell_type": "code",
   "execution_count": 31,
   "id": "5e77d0a1-4e11-4844-843a-bfab62894790",
   "metadata": {},
   "outputs": [
    {
     "data": {
      "text/plain": [
       "'Virat Kohli'"
      ]
     },
     "execution_count": 31,
     "metadata": {},
     "output_type": "execute_result"
    }
   ],
   "source": [
    "pattern = \"Name:(.*)Date:\"\n",
    "\n",
    "match = re.findall(pattern, text)\n",
    "match[0].strip()"
   ]
  },
  {
   "cell_type": "code",
   "execution_count": 32,
   "id": "04014a25-4eeb-47c8-ae4f-0fd94875edbf",
   "metadata": {},
   "outputs": [
    {
     "data": {
      "text/plain": [
       "'2 cricket blvd, New Delhi'"
      ]
     },
     "execution_count": 32,
     "metadata": {},
     "output_type": "execute_result"
    }
   ],
   "source": [
    "pattern = \"Address:(.*\\n)\"\n",
    "\n",
    "match = re.findall(pattern, text)\n",
    "match[0].strip()"
   ]
  },
  {
   "cell_type": "code",
   "execution_count": 33,
   "id": "535127a6-25b4-4deb-b63e-a20211d53877",
   "metadata": {},
   "outputs": [
    {
     "name": "stdout",
     "output_type": "stream",
     "text": [
      "Omeprazole 40 mg\n"
     ]
    }
   ],
   "source": [
    "pattern = \"Address:[^\\n]*(.*)Directions:\"\n",
    "\n",
    "match = re.findall(pattern, text,flags=re.DOTALL)\n",
    "print(match[0].strip())"
   ]
  },
  {
   "cell_type": "code",
   "execution_count": 34,
   "id": "24d82e32-e5c7-4bf8-b1a3-965de86ac87e",
   "metadata": {},
   "outputs": [
    {
     "name": "stdout",
     "output_type": "stream",
     "text": [
      "Use two tablets daily for three months\n"
     ]
    }
   ],
   "source": [
    "pattern = \"Directions:(.*)Refill:\"\n",
    "\n",
    "match = re.findall(pattern, text,flags=re.DOTALL)\n",
    "print(match[0].strip())"
   ]
  },
  {
   "cell_type": "code",
   "execution_count": 35,
   "id": "f3988195-f698-4157-84cd-c31b53edc721",
   "metadata": {},
   "outputs": [
    {
     "name": "stdout",
     "output_type": "stream",
     "text": [
      "3\n"
     ]
    }
   ],
   "source": [
    "pattern = \"Refill:.(\\d).times\"\n",
    "\n",
    "match = re.findall(pattern, text)\n",
    "print(match[0].strip())"
   ]
  },
  {
   "cell_type": "code",
   "execution_count": null,
   "id": "b8f6bef8-9a41-4cc3-afec-9ec7129c7eae",
   "metadata": {},
   "outputs": [],
   "source": []
  },
  {
   "cell_type": "code",
   "execution_count": 18,
   "id": "ef5579e2-dce8-4050-8778-1adcceef8cc3",
   "metadata": {},
   "outputs": [],
   "source": [
    "text = '''Follow our leader Elon musk on Twitter \n",
    "here: <a href=\"https://twitter.com/elonmusk\" rel=\"nofollow\">https://twitter.com/elonmusk</a>, more information \n",
    "on Tesla's products can be found at <a href=\"https://www.tesla.com/\" rel=\"nofollow\">https://www.tesla.com/</a>. \n",
    "Also here are leading influencers for tesla-related news, \n",
    "<a href=\"https://twitter.com/teslarati\" rel=\"nofollow\">https://twitter.com/teslarati</a>\n",
    "<a href=\"https://twitter.com/dummy_tesla\" rel=\"nofollow\">https://twitter.com/dummy_tesla</a>\n",
    "<a href=\"https://twitter.com/dummy_2_tesla\" rel=\"nofollow\">https://twitter.com/dummy_2_tesla</a>'''"
   ]
  },
  {
   "cell_type": "code",
   "execution_count": 56,
   "id": "a68d5f1a-12ec-405a-b392-9ca164115c32",
   "metadata": {},
   "outputs": [
    {
     "data": {
      "text/plain": [
       "['elonmusk', 'teslarati', 'dummy_tesla', 'dummy_2_tesla']"
      ]
     },
     "execution_count": 56,
     "metadata": {},
     "output_type": "execute_result"
    }
   ],
   "source": [
    "pattern = '\"https:\\/\\/twitter.com\\/([a-zA-Z0-9_]+)\"'\n",
    "\n",
    "match = re.findall(pattern, text, flags=re.DOTALL)\n",
    "match"
   ]
  }
 ],
 "metadata": {
  "kernelspec": {
   "display_name": "Python 3 (ipykernel)",
   "language": "python",
   "name": "python3"
  },
  "language_info": {
   "codemirror_mode": {
    "name": "ipython",
    "version": 3
   },
   "file_extension": ".py",
   "mimetype": "text/x-python",
   "name": "python",
   "nbconvert_exporter": "python",
   "pygments_lexer": "ipython3",
   "version": "3.8.10"
  }
 },
 "nbformat": 4,
 "nbformat_minor": 5
}
